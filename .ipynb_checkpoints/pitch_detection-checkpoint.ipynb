{
 "cells": [
  {
   "cell_type": "code",
   "execution_count": 1,
   "id": "fd8e8ee2-fa01-46ac-a2c5-4d6cdebd2586",
   "metadata": {},
   "outputs": [
    {
     "data": {
      "text/html": [
       "Check out the <a href=https://web.mit.edu/21m.387/www>fmplib documentation</a>."
      ],
      "text/plain": [
       "<IPython.core.display.HTML object>"
      ]
     },
     "metadata": {},
     "output_type": "display_data"
    }
   ],
   "source": [
    "import numpy as np\n",
    "import matplotlib.pyplot as plt\n",
    "import IPython.display as ipd\n",
    "from ipywidgets import interact\n",
    "import fmplib as fmp\n",
    "\n",
    "%matplotlib inline\n",
    "fmp.documentation_button()"
   ]
  },
  {
   "cell_type": "code",
   "execution_count": null,
   "id": "93e8962b-5a07-42d1-9668-533900560ce1",
   "metadata": {},
   "outputs": [],
   "source": [
    "#get audio"
   ]
  },
  {
   "cell_type": "code",
   "execution_count": null,
   "id": "bec03180-4aee-4ed2-8c94-65f2d1cd02a1",
   "metadata": {},
   "outputs": [],
   "source": [
    "#make stft with hanning window (N=4096, H=1024)\n",
    "#plot stft"
   ]
  },
  {
   "cell_type": "code",
   "execution_count": null,
   "id": "950695c3-5ecf-4f37-b6d2-8624c917f6f4",
   "metadata": {},
   "outputs": [],
   "source": [
    "#consider k within k range wanted\n",
    "#do thresholding\n",
    "#calculate tonality at k\n",
    "#calculate saliance values of remaining k and do a threshold with max saliance val"
   ]
  }
 ],
 "metadata": {
  "kernelspec": {
   "display_name": "Python 3 (ipykernel)",
   "language": "python",
   "name": "python3"
  },
  "language_info": {
   "codemirror_mode": {
    "name": "ipython",
    "version": 3
   },
   "file_extension": ".py",
   "mimetype": "text/x-python",
   "name": "python",
   "nbconvert_exporter": "python",
   "pygments_lexer": "ipython3",
   "version": "3.11.1"
  }
 },
 "nbformat": 4,
 "nbformat_minor": 5
}
