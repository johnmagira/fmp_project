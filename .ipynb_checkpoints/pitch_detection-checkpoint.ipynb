{
 "cells": [
  {
   "cell_type": "code",
   "execution_count": 1,
   "id": "fd8e8ee2-fa01-46ac-a2c5-4d6cdebd2586",
   "metadata": {},
   "outputs": [
    {
     "data": {
      "text/html": [
       "Check out the <a href=https://web.mit.edu/21m.387/www>fmplib documentation</a>."
      ],
      "text/plain": [
       "<IPython.core.display.HTML object>"
      ]
     },
     "metadata": {},
     "output_type": "display_data"
    }
   ],
   "source": [
    "import numpy as np\n",
    "import matplotlib.pyplot as plt\n",
    "import IPython.display as ipd\n",
    "from ipywidgets import interact\n",
    "import fmplib as fmp\n",
    "\n",
    "%matplotlib inline\n",
    "fmp.documentation_button()"
   ]
  },
  {
   "cell_type": "code",
   "execution_count": null,
   "id": "93e8962b-5a07-42d1-9668-533900560ce1",
   "metadata": {},
   "outputs": [],
   "source": []
  }
 ],
 "metadata": {
  "kernelspec": {
   "display_name": "Python 3 (ipykernel)",
   "language": "python",
   "name": "python3"
  },
  "language_info": {
   "codemirror_mode": {
    "name": "ipython",
    "version": 3
   },
   "file_extension": ".py",
   "mimetype": "text/x-python",
   "name": "python",
   "nbconvert_exporter": "python",
   "pygments_lexer": "ipython3",
   "version": "3.11.1"
  }
 },
 "nbformat": 4,
 "nbformat_minor": 5
}
